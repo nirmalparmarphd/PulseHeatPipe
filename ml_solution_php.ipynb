{
 "cells": [
  {
   "attachments": {},
   "cell_type": "markdown",
   "metadata": {},
   "source": [
    "# Machine Learning solution - PHP\n",
    "\n",
    "ML model to predict 'Thermal Resistance' and 'Temperature Drop' in PHP"
   ]
  },
  {
   "attachments": {},
   "cell_type": "markdown",
   "metadata": {},
   "source": [
    "## Data Loading and Pre-Processing"
   ]
  },
  {
   "cell_type": "code",
   "execution_count": 1,
   "metadata": {},
   "outputs": [],
   "source": [
    "# loading ML module\n",
    "from ml_solution_module import MachineLearning\n",
    "\n",
    "from sklearn.feature_selection import mutual_info_regression\n",
    "import pandas as pd"
   ]
  },
  {
   "cell_type": "code",
   "execution_count": 2,
   "metadata": {},
   "outputs": [
    {
     "name": "stdout",
     "output_type": "stream",
     "text": [
      "data/ml_result already exists and ML reuslts will be stored here.\n"
     ]
    }
   ],
   "source": [
    "# assigning variable\n",
    "ml = MachineLearning(\"data/\")"
   ]
  },
  {
   "cell_type": "code",
   "execution_count": 3,
   "metadata": {},
   "outputs": [
    {
     "name": "stdout",
     "output_type": "stream",
     "text": [
      "Compiled data stored at data/ml_result/all_combined_data_DI_Water_40.csv\n",
      "Compiled data stored at data/ml_result/all_combined_data_DI_Water_60.csv\n",
      "Compiled data stored at data/ml_result/all_combined_data_Al2O3_DI_Water_40.csv\n",
      "Compiled data stored at data/ml_result/all_combined_data_Al2O3_DI_Water_60.csv\n"
     ]
    }
   ],
   "source": [
    "# loadig data from gfe_combined.csv from each sample and sving them as csv in data/ml_result/\n",
    "\n",
    "df_w_40 = ml.data_prep('data/di_water_exp/40_FR/gfe_combined.csv', sample='DI_Water', fr=40)\n",
    "df_w_60 = ml.data_prep('data/di_water_exp/60_FR/gfe_combined.csv', sample='DI_Water', fr=60)\n",
    "df_a_40 = ml.data_prep('data/al2o3_diwater_exp/40_FR/gfe_combined.csv', sample='Al2O3_DI_Water', fr=40)\n",
    "df_a_60 = ml.data_prep('data/al2o3_diwater_exp/60_FR/gfe_combined.csv', sample='Al2O3_DI_Water', fr=60)\n"
   ]
  },
  {
   "cell_type": "code",
   "execution_count": 4,
   "metadata": {},
   "outputs": [
    {
     "name": "stdout",
     "output_type": "stream",
     "text": [
      "All data compiled in a single csv file and saved at: data/ml_result as super_combined_data.csv\n"
     ]
    }
   ],
   "source": [
    "# Data compile\n",
    "# Combining all files in one super_combine file\n",
    "\n",
    "df_combined = ml.data_compile() "
   ]
  },
  {
   "cell_type": "code",
   "execution_count": 5,
   "metadata": {},
   "outputs": [],
   "source": [
    "# Data Cleaning\n",
    "# Filtering data by dG values\n",
    "# removing all datapoints with positive dG value\n",
    "\n",
    "df_clean = ml.data_filter_dG(df_combined)"
   ]
  },
  {
   "cell_type": "code",
   "execution_count": 6,
   "metadata": {},
   "outputs": [
    {
     "data": {
      "text/html": [
       "<div>\n",
       "<style scoped>\n",
       "    .dataframe tbody tr th:only-of-type {\n",
       "        vertical-align: middle;\n",
       "    }\n",
       "\n",
       "    .dataframe tbody tr th {\n",
       "        vertical-align: top;\n",
       "    }\n",
       "\n",
       "    .dataframe thead th {\n",
       "        text-align: right;\n",
       "    }\n",
       "</style>\n",
       "<table border=\"1\" class=\"dataframe\">\n",
       "  <thead>\n",
       "    <tr style=\"text-align: right;\">\n",
       "      <th></th>\n",
       "      <th>Unnamed: 0</th>\n",
       "      <th>t(min)</th>\n",
       "      <th>Te[K]</th>\n",
       "      <th>Tc[K]</th>\n",
       "      <th>dT[K]</th>\n",
       "      <th>P[bar]</th>\n",
       "      <th>TR[K/W]</th>\n",
       "      <th>GFE [KJ/mol]</th>\n",
       "      <th>GFE_Tc [KJ/mol]</th>\n",
       "      <th>dG[KJ/mol]</th>\n",
       "      <th>Fluid</th>\n",
       "      <th>FR</th>\n",
       "    </tr>\n",
       "  </thead>\n",
       "  <tbody>\n",
       "    <tr>\n",
       "      <th>0</th>\n",
       "      <td>0</td>\n",
       "      <td>0.0</td>\n",
       "      <td>298.150000</td>\n",
       "      <td>296.65</td>\n",
       "      <td>1.500000</td>\n",
       "      <td>0.413299</td>\n",
       "      <td>0.018750</td>\n",
       "      <td>-2190.243835</td>\n",
       "      <td>-2179.224665</td>\n",
       "      <td>-11.019171</td>\n",
       "      <td>DI_Water</td>\n",
       "      <td>60</td>\n",
       "    </tr>\n",
       "    <tr>\n",
       "      <th>1</th>\n",
       "      <td>1</td>\n",
       "      <td>0.5</td>\n",
       "      <td>297.816667</td>\n",
       "      <td>296.65</td>\n",
       "      <td>1.166667</td>\n",
       "      <td>0.413299</td>\n",
       "      <td>0.014583</td>\n",
       "      <td>-2187.795131</td>\n",
       "      <td>-2179.224665</td>\n",
       "      <td>-8.570466</td>\n",
       "      <td>DI_Water</td>\n",
       "      <td>60</td>\n",
       "    </tr>\n",
       "    <tr>\n",
       "      <th>2</th>\n",
       "      <td>2</td>\n",
       "      <td>1.0</td>\n",
       "      <td>298.150000</td>\n",
       "      <td>296.40</td>\n",
       "      <td>1.750000</td>\n",
       "      <td>0.413299</td>\n",
       "      <td>0.021875</td>\n",
       "      <td>-2190.243835</td>\n",
       "      <td>-2177.388136</td>\n",
       "      <td>-12.855699</td>\n",
       "      <td>DI_Water</td>\n",
       "      <td>60</td>\n",
       "    </tr>\n",
       "    <tr>\n",
       "      <th>3</th>\n",
       "      <td>3</td>\n",
       "      <td>1.5</td>\n",
       "      <td>300.150000</td>\n",
       "      <td>296.40</td>\n",
       "      <td>3.750000</td>\n",
       "      <td>0.413299</td>\n",
       "      <td>0.046875</td>\n",
       "      <td>-2204.936063</td>\n",
       "      <td>-2177.388136</td>\n",
       "      <td>-27.547927</td>\n",
       "      <td>DI_Water</td>\n",
       "      <td>60</td>\n",
       "    </tr>\n",
       "    <tr>\n",
       "      <th>4</th>\n",
       "      <td>4</td>\n",
       "      <td>2.0</td>\n",
       "      <td>302.150000</td>\n",
       "      <td>296.40</td>\n",
       "      <td>5.750000</td>\n",
       "      <td>0.413299</td>\n",
       "      <td>0.071875</td>\n",
       "      <td>-2219.628291</td>\n",
       "      <td>-2177.388136</td>\n",
       "      <td>-42.240154</td>\n",
       "      <td>DI_Water</td>\n",
       "      <td>60</td>\n",
       "    </tr>\n",
       "    <tr>\n",
       "      <th>...</th>\n",
       "      <td>...</td>\n",
       "      <td>...</td>\n",
       "      <td>...</td>\n",
       "      <td>...</td>\n",
       "      <td>...</td>\n",
       "      <td>...</td>\n",
       "      <td>...</td>\n",
       "      <td>...</td>\n",
       "      <td>...</td>\n",
       "      <td>...</td>\n",
       "      <td>...</td>\n",
       "      <td>...</td>\n",
       "    </tr>\n",
       "    <tr>\n",
       "      <th>1794</th>\n",
       "      <td>419</td>\n",
       "      <td>58.0</td>\n",
       "      <td>366.150000</td>\n",
       "      <td>332.90</td>\n",
       "      <td>33.250000</td>\n",
       "      <td>0.613283</td>\n",
       "      <td>0.415625</td>\n",
       "      <td>-1488.384689</td>\n",
       "      <td>-1353.224807</td>\n",
       "      <td>-135.159882</td>\n",
       "      <td>Al2O3_DI_Water</td>\n",
       "      <td>40</td>\n",
       "    </tr>\n",
       "    <tr>\n",
       "      <th>1795</th>\n",
       "      <td>420</td>\n",
       "      <td>58.5</td>\n",
       "      <td>366.150000</td>\n",
       "      <td>332.40</td>\n",
       "      <td>33.750000</td>\n",
       "      <td>0.613283</td>\n",
       "      <td>0.421875</td>\n",
       "      <td>-1488.384689</td>\n",
       "      <td>-1351.192328</td>\n",
       "      <td>-137.192362</td>\n",
       "      <td>Al2O3_DI_Water</td>\n",
       "      <td>40</td>\n",
       "    </tr>\n",
       "    <tr>\n",
       "      <th>1796</th>\n",
       "      <td>421</td>\n",
       "      <td>59.0</td>\n",
       "      <td>366.150000</td>\n",
       "      <td>332.40</td>\n",
       "      <td>33.750000</td>\n",
       "      <td>0.613283</td>\n",
       "      <td>0.421875</td>\n",
       "      <td>-1488.384689</td>\n",
       "      <td>-1351.192328</td>\n",
       "      <td>-137.192362</td>\n",
       "      <td>Al2O3_DI_Water</td>\n",
       "      <td>40</td>\n",
       "    </tr>\n",
       "    <tr>\n",
       "      <th>1797</th>\n",
       "      <td>422</td>\n",
       "      <td>59.5</td>\n",
       "      <td>366.350000</td>\n",
       "      <td>332.15</td>\n",
       "      <td>34.200000</td>\n",
       "      <td>0.613283</td>\n",
       "      <td>0.427500</td>\n",
       "      <td>-1489.197681</td>\n",
       "      <td>-1350.176088</td>\n",
       "      <td>-139.021593</td>\n",
       "      <td>Al2O3_DI_Water</td>\n",
       "      <td>40</td>\n",
       "    </tr>\n",
       "    <tr>\n",
       "      <th>1798</th>\n",
       "      <td>423</td>\n",
       "      <td>60.0</td>\n",
       "      <td>367.750000</td>\n",
       "      <td>333.65</td>\n",
       "      <td>34.100000</td>\n",
       "      <td>0.613283</td>\n",
       "      <td>0.426250</td>\n",
       "      <td>-1494.888624</td>\n",
       "      <td>-1356.273526</td>\n",
       "      <td>-138.615097</td>\n",
       "      <td>Al2O3_DI_Water</td>\n",
       "      <td>40</td>\n",
       "    </tr>\n",
       "  </tbody>\n",
       "</table>\n",
       "<p>1479 rows × 12 columns</p>\n",
       "</div>"
      ],
      "text/plain": [
       "      Unnamed: 0  t(min)       Te[K]   Tc[K]      dT[K]    P[bar]   TR[K/W]  \\\n",
       "0              0     0.0  298.150000  296.65   1.500000  0.413299  0.018750   \n",
       "1              1     0.5  297.816667  296.65   1.166667  0.413299  0.014583   \n",
       "2              2     1.0  298.150000  296.40   1.750000  0.413299  0.021875   \n",
       "3              3     1.5  300.150000  296.40   3.750000  0.413299  0.046875   \n",
       "4              4     2.0  302.150000  296.40   5.750000  0.413299  0.071875   \n",
       "...          ...     ...         ...     ...        ...       ...       ...   \n",
       "1794         419    58.0  366.150000  332.90  33.250000  0.613283  0.415625   \n",
       "1795         420    58.5  366.150000  332.40  33.750000  0.613283  0.421875   \n",
       "1796         421    59.0  366.150000  332.40  33.750000  0.613283  0.421875   \n",
       "1797         422    59.5  366.350000  332.15  34.200000  0.613283  0.427500   \n",
       "1798         423    60.0  367.750000  333.65  34.100000  0.613283  0.426250   \n",
       "\n",
       "      GFE [KJ/mol]  GFE_Tc [KJ/mol]  dG[KJ/mol]           Fluid  FR  \n",
       "0     -2190.243835     -2179.224665  -11.019171        DI_Water  60  \n",
       "1     -2187.795131     -2179.224665   -8.570466        DI_Water  60  \n",
       "2     -2190.243835     -2177.388136  -12.855699        DI_Water  60  \n",
       "3     -2204.936063     -2177.388136  -27.547927        DI_Water  60  \n",
       "4     -2219.628291     -2177.388136  -42.240154        DI_Water  60  \n",
       "...            ...              ...         ...             ...  ..  \n",
       "1794  -1488.384689     -1353.224807 -135.159882  Al2O3_DI_Water  40  \n",
       "1795  -1488.384689     -1351.192328 -137.192362  Al2O3_DI_Water  40  \n",
       "1796  -1488.384689     -1351.192328 -137.192362  Al2O3_DI_Water  40  \n",
       "1797  -1489.197681     -1350.176088 -139.021593  Al2O3_DI_Water  40  \n",
       "1798  -1494.888624     -1356.273526 -138.615097  Al2O3_DI_Water  40  \n",
       "\n",
       "[1479 rows x 12 columns]"
      ]
     },
     "execution_count": 6,
     "metadata": {},
     "output_type": "execute_result"
    }
   ],
   "source": [
    "df_clean"
   ]
  },
  {
   "attachments": {},
   "cell_type": "markdown",
   "metadata": {},
   "source": [
    "## EDA\n",
    "Detailed EDA (data visualisation) is conducted in ml_eda_*.ipynb"
   ]
  },
  {
   "cell_type": "code",
   "execution_count": 7,
   "metadata": {},
   "outputs": [
    {
     "data": {
      "text/plain": [
       "array(['DI_Water', 'Al2O3_DI_Water'], dtype=object)"
      ]
     },
     "execution_count": 7,
     "metadata": {},
     "output_type": "execute_result"
    }
   ],
   "source": [
    "# checking the Fluid column\n",
    "df_clean.Fluid.unique()"
   ]
  },
  {
   "cell_type": "code",
   "execution_count": 8,
   "metadata": {},
   "outputs": [
    {
     "data": {
      "text/plain": [
       "Index(['Unnamed: 0', 't(min)', 'Te[K]', 'Tc[K]', 'dT[K]', 'P[bar]', 'TR[K/W]',\n",
       "       'GFE [KJ/mol]', 'GFE_Tc [KJ/mol]', 'dG[KJ/mol]', 'Fluid', 'FR'],\n",
       "      dtype='object')"
      ]
     },
     "execution_count": 8,
     "metadata": {},
     "output_type": "execute_result"
    }
   ],
   "source": [
    "# checking columns list\n",
    "df_clean.columns"
   ]
  },
  {
   "cell_type": "code",
   "execution_count": 9,
   "metadata": {},
   "outputs": [],
   "source": [
    "# selecting clms\n",
    "df_sd = df_clean[['Te[K]', 'Tc[K]', 'dT[K]', 'P[bar]', 'TR[K/W]','dG[KJ/mol]', 'Fluid', 'FR']]"
   ]
  },
  {
   "cell_type": "code",
   "execution_count": 10,
   "metadata": {},
   "outputs": [
    {
     "data": {
      "text/html": [
       "<div>\n",
       "<style scoped>\n",
       "    .dataframe tbody tr th:only-of-type {\n",
       "        vertical-align: middle;\n",
       "    }\n",
       "\n",
       "    .dataframe tbody tr th {\n",
       "        vertical-align: top;\n",
       "    }\n",
       "\n",
       "    .dataframe thead th {\n",
       "        text-align: right;\n",
       "    }\n",
       "</style>\n",
       "<table border=\"1\" class=\"dataframe\">\n",
       "  <thead>\n",
       "    <tr style=\"text-align: right;\">\n",
       "      <th></th>\n",
       "      <th>Te[K]</th>\n",
       "      <th>Tc[K]</th>\n",
       "      <th>dT[K]</th>\n",
       "      <th>P[bar]</th>\n",
       "      <th>TR[K/W]</th>\n",
       "      <th>dG[KJ/mol]</th>\n",
       "      <th>Fluid</th>\n",
       "      <th>FR</th>\n",
       "    </tr>\n",
       "  </thead>\n",
       "  <tbody>\n",
       "    <tr>\n",
       "      <th>0</th>\n",
       "      <td>298.150000</td>\n",
       "      <td>296.65</td>\n",
       "      <td>1.500000</td>\n",
       "      <td>0.413299</td>\n",
       "      <td>0.018750</td>\n",
       "      <td>-11.019171</td>\n",
       "      <td>DI_Water</td>\n",
       "      <td>60</td>\n",
       "    </tr>\n",
       "    <tr>\n",
       "      <th>1</th>\n",
       "      <td>297.816667</td>\n",
       "      <td>296.65</td>\n",
       "      <td>1.166667</td>\n",
       "      <td>0.413299</td>\n",
       "      <td>0.014583</td>\n",
       "      <td>-8.570466</td>\n",
       "      <td>DI_Water</td>\n",
       "      <td>60</td>\n",
       "    </tr>\n",
       "    <tr>\n",
       "      <th>2</th>\n",
       "      <td>298.150000</td>\n",
       "      <td>296.40</td>\n",
       "      <td>1.750000</td>\n",
       "      <td>0.413299</td>\n",
       "      <td>0.021875</td>\n",
       "      <td>-12.855699</td>\n",
       "      <td>DI_Water</td>\n",
       "      <td>60</td>\n",
       "    </tr>\n",
       "    <tr>\n",
       "      <th>3</th>\n",
       "      <td>300.150000</td>\n",
       "      <td>296.40</td>\n",
       "      <td>3.750000</td>\n",
       "      <td>0.413299</td>\n",
       "      <td>0.046875</td>\n",
       "      <td>-27.547927</td>\n",
       "      <td>DI_Water</td>\n",
       "      <td>60</td>\n",
       "    </tr>\n",
       "    <tr>\n",
       "      <th>4</th>\n",
       "      <td>302.150000</td>\n",
       "      <td>296.40</td>\n",
       "      <td>5.750000</td>\n",
       "      <td>0.413299</td>\n",
       "      <td>0.071875</td>\n",
       "      <td>-42.240154</td>\n",
       "      <td>DI_Water</td>\n",
       "      <td>60</td>\n",
       "    </tr>\n",
       "    <tr>\n",
       "      <th>...</th>\n",
       "      <td>...</td>\n",
       "      <td>...</td>\n",
       "      <td>...</td>\n",
       "      <td>...</td>\n",
       "      <td>...</td>\n",
       "      <td>...</td>\n",
       "      <td>...</td>\n",
       "      <td>...</td>\n",
       "    </tr>\n",
       "    <tr>\n",
       "      <th>1794</th>\n",
       "      <td>366.150000</td>\n",
       "      <td>332.90</td>\n",
       "      <td>33.250000</td>\n",
       "      <td>0.613283</td>\n",
       "      <td>0.415625</td>\n",
       "      <td>-135.159882</td>\n",
       "      <td>Al2O3_DI_Water</td>\n",
       "      <td>40</td>\n",
       "    </tr>\n",
       "    <tr>\n",
       "      <th>1795</th>\n",
       "      <td>366.150000</td>\n",
       "      <td>332.40</td>\n",
       "      <td>33.750000</td>\n",
       "      <td>0.613283</td>\n",
       "      <td>0.421875</td>\n",
       "      <td>-137.192362</td>\n",
       "      <td>Al2O3_DI_Water</td>\n",
       "      <td>40</td>\n",
       "    </tr>\n",
       "    <tr>\n",
       "      <th>1796</th>\n",
       "      <td>366.150000</td>\n",
       "      <td>332.40</td>\n",
       "      <td>33.750000</td>\n",
       "      <td>0.613283</td>\n",
       "      <td>0.421875</td>\n",
       "      <td>-137.192362</td>\n",
       "      <td>Al2O3_DI_Water</td>\n",
       "      <td>40</td>\n",
       "    </tr>\n",
       "    <tr>\n",
       "      <th>1797</th>\n",
       "      <td>366.350000</td>\n",
       "      <td>332.15</td>\n",
       "      <td>34.200000</td>\n",
       "      <td>0.613283</td>\n",
       "      <td>0.427500</td>\n",
       "      <td>-139.021593</td>\n",
       "      <td>Al2O3_DI_Water</td>\n",
       "      <td>40</td>\n",
       "    </tr>\n",
       "    <tr>\n",
       "      <th>1798</th>\n",
       "      <td>367.750000</td>\n",
       "      <td>333.65</td>\n",
       "      <td>34.100000</td>\n",
       "      <td>0.613283</td>\n",
       "      <td>0.426250</td>\n",
       "      <td>-138.615097</td>\n",
       "      <td>Al2O3_DI_Water</td>\n",
       "      <td>40</td>\n",
       "    </tr>\n",
       "  </tbody>\n",
       "</table>\n",
       "<p>1479 rows × 8 columns</p>\n",
       "</div>"
      ],
      "text/plain": [
       "           Te[K]   Tc[K]      dT[K]    P[bar]   TR[K/W]  dG[KJ/mol]  \\\n",
       "0     298.150000  296.65   1.500000  0.413299  0.018750  -11.019171   \n",
       "1     297.816667  296.65   1.166667  0.413299  0.014583   -8.570466   \n",
       "2     298.150000  296.40   1.750000  0.413299  0.021875  -12.855699   \n",
       "3     300.150000  296.40   3.750000  0.413299  0.046875  -27.547927   \n",
       "4     302.150000  296.40   5.750000  0.413299  0.071875  -42.240154   \n",
       "...          ...     ...        ...       ...       ...         ...   \n",
       "1794  366.150000  332.90  33.250000  0.613283  0.415625 -135.159882   \n",
       "1795  366.150000  332.40  33.750000  0.613283  0.421875 -137.192362   \n",
       "1796  366.150000  332.40  33.750000  0.613283  0.421875 -137.192362   \n",
       "1797  366.350000  332.15  34.200000  0.613283  0.427500 -139.021593   \n",
       "1798  367.750000  333.65  34.100000  0.613283  0.426250 -138.615097   \n",
       "\n",
       "               Fluid  FR  \n",
       "0           DI_Water  60  \n",
       "1           DI_Water  60  \n",
       "2           DI_Water  60  \n",
       "3           DI_Water  60  \n",
       "4           DI_Water  60  \n",
       "...              ...  ..  \n",
       "1794  Al2O3_DI_Water  40  \n",
       "1795  Al2O3_DI_Water  40  \n",
       "1796  Al2O3_DI_Water  40  \n",
       "1797  Al2O3_DI_Water  40  \n",
       "1798  Al2O3_DI_Water  40  \n",
       "\n",
       "[1479 rows x 8 columns]"
      ]
     },
     "execution_count": 10,
     "metadata": {},
     "output_type": "execute_result"
    }
   ],
   "source": [
    "df_sd"
   ]
  },
  {
   "cell_type": "code",
   "execution_count": 11,
   "metadata": {},
   "outputs": [
    {
     "name": "stderr",
     "output_type": "stream",
     "text": [
      "/var/folders/qf/2jw75py95_q8c1t5jmt77sx80000gn/T/ipykernel_10110/1295938470.py:2: FutureWarning: The default value of numeric_only in DataFrame.corr is deprecated. In a future version, it will default to False. Select only valid columns or specify the value of numeric_only to silence this warning.\n",
      "  corr_matrix = df_sd.corr()\n"
     ]
    },
    {
     "data": {
      "text/plain": [
       "TR[K/W]      -0.490117\n",
       "dT[K]        -0.490015\n",
       "Te[K]         0.228414\n",
       "FR            0.257672\n",
       "Tc[K]         0.502954\n",
       "P[bar]        0.697498\n",
       "dG[KJ/mol]    1.000000\n",
       "Name: dG[KJ/mol], dtype: float64"
      ]
     },
     "execution_count": 11,
     "metadata": {},
     "output_type": "execute_result"
    }
   ],
   "source": [
    "# co-relation\n",
    "corr_matrix = df_sd.corr()\n",
    "corr_matrix['dG[KJ/mol]'].sort_values(ascending=True)"
   ]
  },
  {
   "attachments": {},
   "cell_type": "markdown",
   "metadata": {},
   "source": [
    "dG has strong correlation with: P[bar]"
   ]
  },
  {
   "cell_type": "code",
   "execution_count": 12,
   "metadata": {},
   "outputs": [
    {
     "data": {
      "text/plain": [
       "FR           -0.051822\n",
       "TR[K/W]       0.191281\n",
       "dT[K]         0.191412\n",
       "dG[KJ/mol]    0.502954\n",
       "P[bar]        0.886474\n",
       "Te[K]         0.918503\n",
       "Tc[K]         1.000000\n",
       "Name: Tc[K], dtype: float64"
      ]
     },
     "execution_count": 12,
     "metadata": {},
     "output_type": "execute_result"
    }
   ],
   "source": [
    "corr_matrix['Tc[K]'].sort_values(ascending=True)"
   ]
  },
  {
   "attachments": {},
   "cell_type": "markdown",
   "metadata": {},
   "source": [
    "Tc has strong correlation with Te[K] and P[bar]"
   ]
  },
  {
   "cell_type": "code",
   "execution_count": 13,
   "metadata": {},
   "outputs": [],
   "source": [
    "# Mutual Information\n",
    "\n",
    "df_int = df_sd.drop(['Fluid', 'Tc[K]', 'dG[KJ/mol]'], axis=1)\n",
    "mutual_info = mutual_info_regression(df_int, df_sd['Tc[K]'])"
   ]
  },
  {
   "cell_type": "code",
   "execution_count": 14,
   "metadata": {},
   "outputs": [
    {
     "data": {
      "text/plain": [
       "Te[K]      1.573770\n",
       "P[bar]     1.136952\n",
       "TR[K/W]    1.054811\n",
       "dT[K]      1.053555\n",
       "FR         0.051914\n",
       "dtype: float64"
      ]
     },
     "execution_count": 14,
     "metadata": {},
     "output_type": "execute_result"
    }
   ],
   "source": [
    "mutual_info = pd.Series(mutual_info)\n",
    "mutual_info.index = df_int.columns\n",
    "mutual_info.sort_values(ascending=False)"
   ]
  },
  {
   "attachments": {},
   "cell_type": "markdown",
   "metadata": {},
   "source": [
    "## data splitting"
   ]
  },
  {
   "cell_type": "code",
   "execution_count": 15,
   "metadata": {},
   "outputs": [],
   "source": [
    "# data splitting\n",
    "x_train, x_test, y_train, y_test = ml.data_split(df_sd)"
   ]
  },
  {
   "cell_type": "code",
   "execution_count": 16,
   "metadata": {},
   "outputs": [
    {
     "data": {
      "text/html": [
       "<div>\n",
       "<style scoped>\n",
       "    .dataframe tbody tr th:only-of-type {\n",
       "        vertical-align: middle;\n",
       "    }\n",
       "\n",
       "    .dataframe tbody tr th {\n",
       "        vertical-align: top;\n",
       "    }\n",
       "\n",
       "    .dataframe thead th {\n",
       "        text-align: right;\n",
       "    }\n",
       "</style>\n",
       "<table border=\"1\" class=\"dataframe\">\n",
       "  <thead>\n",
       "    <tr style=\"text-align: right;\">\n",
       "      <th></th>\n",
       "      <th>Te[K]</th>\n",
       "      <th>P[bar]</th>\n",
       "      <th>Fluid</th>\n",
       "      <th>FR</th>\n",
       "    </tr>\n",
       "  </thead>\n",
       "  <tbody>\n",
       "    <tr>\n",
       "      <th>821</th>\n",
       "      <td>321.816667</td>\n",
       "      <td>0.413299</td>\n",
       "      <td>Al2O3_DI_Water</td>\n",
       "      <td>60</td>\n",
       "    </tr>\n",
       "    <tr>\n",
       "      <th>350</th>\n",
       "      <td>311.750000</td>\n",
       "      <td>0.479960</td>\n",
       "      <td>DI_Water</td>\n",
       "      <td>60</td>\n",
       "    </tr>\n",
       "    <tr>\n",
       "      <th>543</th>\n",
       "      <td>361.950000</td>\n",
       "      <td>0.913258</td>\n",
       "      <td>Al2O3_DI_Water</td>\n",
       "      <td>60</td>\n",
       "    </tr>\n",
       "    <tr>\n",
       "      <th>294</th>\n",
       "      <td>359.150000</td>\n",
       "      <td>0.879927</td>\n",
       "      <td>DI_Water</td>\n",
       "      <td>60</td>\n",
       "    </tr>\n",
       "    <tr>\n",
       "      <th>1130</th>\n",
       "      <td>359.750000</td>\n",
       "      <td>0.946588</td>\n",
       "      <td>DI_Water</td>\n",
       "      <td>40</td>\n",
       "    </tr>\n",
       "    <tr>\n",
       "      <th>...</th>\n",
       "      <td>...</td>\n",
       "      <td>...</td>\n",
       "      <td>...</td>\n",
       "      <td>...</td>\n",
       "    </tr>\n",
       "    <tr>\n",
       "      <th>473</th>\n",
       "      <td>316.150000</td>\n",
       "      <td>0.379969</td>\n",
       "      <td>Al2O3_DI_Water</td>\n",
       "      <td>60</td>\n",
       "    </tr>\n",
       "    <tr>\n",
       "      <th>1787</th>\n",
       "      <td>365.950000</td>\n",
       "      <td>0.579952</td>\n",
       "      <td>Al2O3_DI_Water</td>\n",
       "      <td>40</td>\n",
       "    </tr>\n",
       "    <tr>\n",
       "      <th>1276</th>\n",
       "      <td>300.816667</td>\n",
       "      <td>0.413299</td>\n",
       "      <td>DI_Water</td>\n",
       "      <td>40</td>\n",
       "    </tr>\n",
       "    <tr>\n",
       "      <th>1549</th>\n",
       "      <td>360.350000</td>\n",
       "      <td>0.613283</td>\n",
       "      <td>Al2O3_DI_Water</td>\n",
       "      <td>40</td>\n",
       "    </tr>\n",
       "    <tr>\n",
       "      <th>465</th>\n",
       "      <td>302.950000</td>\n",
       "      <td>0.379969</td>\n",
       "      <td>Al2O3_DI_Water</td>\n",
       "      <td>60</td>\n",
       "    </tr>\n",
       "  </tbody>\n",
       "</table>\n",
       "<p>296 rows × 4 columns</p>\n",
       "</div>"
      ],
      "text/plain": [
       "           Te[K]    P[bar]           Fluid  FR\n",
       "821   321.816667  0.413299  Al2O3_DI_Water  60\n",
       "350   311.750000  0.479960        DI_Water  60\n",
       "543   361.950000  0.913258  Al2O3_DI_Water  60\n",
       "294   359.150000  0.879927        DI_Water  60\n",
       "1130  359.750000  0.946588        DI_Water  40\n",
       "...          ...       ...             ...  ..\n",
       "473   316.150000  0.379969  Al2O3_DI_Water  60\n",
       "1787  365.950000  0.579952  Al2O3_DI_Water  40\n",
       "1276  300.816667  0.413299        DI_Water  40\n",
       "1549  360.350000  0.613283  Al2O3_DI_Water  40\n",
       "465   302.950000  0.379969  Al2O3_DI_Water  60\n",
       "\n",
       "[296 rows x 4 columns]"
      ]
     },
     "execution_count": 16,
     "metadata": {},
     "output_type": "execute_result"
    }
   ],
   "source": [
    "x_test"
   ]
  },
  {
   "cell_type": "code",
   "execution_count": 17,
   "metadata": {},
   "outputs": [
    {
     "name": "stderr",
     "output_type": "stream",
     "text": [
      "/Users/nirmal/Documents/data_science/venv/lib/python3.9/site-packages/sklearn/preprocessing/_encoders.py:868: FutureWarning: `sparse` was renamed to `sparse_output` in version 1.2 and will be removed in 1.4. `sparse_output` is ignored unless you leave `sparse` to its default value.\n",
      "  warnings.warn(\n"
     ]
    }
   ],
   "source": [
    "# one hot encoding\n",
    "from sklearn.preprocessing import OneHotEncoder\n",
    "oh_encoder = OneHotEncoder(sparse=False)\n",
    "oh_x_train = pd.DataFrame(OneHotEncoder(sparse=False).fit_transform(pd.DataFrame(x_train['Fluid'])))"
   ]
  },
  {
   "attachments": {},
   "cell_type": "markdown",
   "metadata": {},
   "source": [
    "## Data Pipeline"
   ]
  },
  {
   "cell_type": "code",
   "execution_count": 18,
   "metadata": {},
   "outputs": [],
   "source": [
    "# data pipeline\n",
    "from sklearn.pipeline import Pipeline, make_pipeline\n",
    "from sklearn.preprocessing import OneHotEncoder, StandardScaler\n",
    "from sklearn.compose import ColumnTransformer\n",
    "from sklearn.ensemble import RandomForestRegressor\n",
    "from sklearn.metrics import mean_absolute_error\n",
    "import matplotlib.pyplot as plt\n",
    "\n",
    "numeric_features = ['Te[K]', 'P[bar]', 'FR']\n",
    "categorical_features = ['Fluid']\n",
    "\n",
    "numeric_transformer = make_pipeline(StandardScaler())\n",
    "categorical_tranformer = make_pipeline(OneHotEncoder(sparse=False))\n",
    "\n",
    "preprocessor = ColumnTransformer(\n",
    "    transformers=[\n",
    "    ('num', numeric_transformer, numeric_features),\n",
    "    ('cat', categorical_tranformer, categorical_features)\n",
    "    ], verbose=True)\n",
    "\n",
    "# RFR Model\n",
    "model_rfr = RandomForestRegressor()\n",
    "\n",
    "data_pipeline = Pipeline(steps=[('Preprocessing', preprocessor),\n",
    "                                ('RFR_model', model_rfr)], verbose=True)"
   ]
  },
  {
   "cell_type": "code",
   "execution_count": 19,
   "metadata": {},
   "outputs": [
    {
     "name": "stderr",
     "output_type": "stream",
     "text": [
      "/Users/nirmal/Documents/data_science/venv/lib/python3.9/site-packages/sklearn/preprocessing/_encoders.py:868: FutureWarning: `sparse` was renamed to `sparse_output` in version 1.2 and will be removed in 1.4. `sparse_output` is ignored unless you leave `sparse` to its default value.\n",
      "  warnings.warn(\n"
     ]
    },
    {
     "name": "stdout",
     "output_type": "stream",
     "text": [
      "[ColumnTransformer] ........... (1 of 2) Processing num, total=   0.0s\n",
      "[ColumnTransformer] ........... (2 of 2) Processing cat, total=   0.0s\n",
      "[Pipeline] ..... (step 1 of 2) Processing Preprocessing, total=   0.0s\n",
      "[Pipeline] ......... (step 2 of 2) Processing RFR_model, total=   0.1s\n"
     ]
    },
    {
     "data": {
      "text/html": [
       "<style>#sk-container-id-1 {color: black;background-color: white;}#sk-container-id-1 pre{padding: 0;}#sk-container-id-1 div.sk-toggleable {background-color: white;}#sk-container-id-1 label.sk-toggleable__label {cursor: pointer;display: block;width: 100%;margin-bottom: 0;padding: 0.3em;box-sizing: border-box;text-align: center;}#sk-container-id-1 label.sk-toggleable__label-arrow:before {content: \"▸\";float: left;margin-right: 0.25em;color: #696969;}#sk-container-id-1 label.sk-toggleable__label-arrow:hover:before {color: black;}#sk-container-id-1 div.sk-estimator:hover label.sk-toggleable__label-arrow:before {color: black;}#sk-container-id-1 div.sk-toggleable__content {max-height: 0;max-width: 0;overflow: hidden;text-align: left;background-color: #f0f8ff;}#sk-container-id-1 div.sk-toggleable__content pre {margin: 0.2em;color: black;border-radius: 0.25em;background-color: #f0f8ff;}#sk-container-id-1 input.sk-toggleable__control:checked~div.sk-toggleable__content {max-height: 200px;max-width: 100%;overflow: auto;}#sk-container-id-1 input.sk-toggleable__control:checked~label.sk-toggleable__label-arrow:before {content: \"▾\";}#sk-container-id-1 div.sk-estimator input.sk-toggleable__control:checked~label.sk-toggleable__label {background-color: #d4ebff;}#sk-container-id-1 div.sk-label input.sk-toggleable__control:checked~label.sk-toggleable__label {background-color: #d4ebff;}#sk-container-id-1 input.sk-hidden--visually {border: 0;clip: rect(1px 1px 1px 1px);clip: rect(1px, 1px, 1px, 1px);height: 1px;margin: -1px;overflow: hidden;padding: 0;position: absolute;width: 1px;}#sk-container-id-1 div.sk-estimator {font-family: monospace;background-color: #f0f8ff;border: 1px dotted black;border-radius: 0.25em;box-sizing: border-box;margin-bottom: 0.5em;}#sk-container-id-1 div.sk-estimator:hover {background-color: #d4ebff;}#sk-container-id-1 div.sk-parallel-item::after {content: \"\";width: 100%;border-bottom: 1px solid gray;flex-grow: 1;}#sk-container-id-1 div.sk-label:hover label.sk-toggleable__label {background-color: #d4ebff;}#sk-container-id-1 div.sk-serial::before {content: \"\";position: absolute;border-left: 1px solid gray;box-sizing: border-box;top: 0;bottom: 0;left: 50%;z-index: 0;}#sk-container-id-1 div.sk-serial {display: flex;flex-direction: column;align-items: center;background-color: white;padding-right: 0.2em;padding-left: 0.2em;position: relative;}#sk-container-id-1 div.sk-item {position: relative;z-index: 1;}#sk-container-id-1 div.sk-parallel {display: flex;align-items: stretch;justify-content: center;background-color: white;position: relative;}#sk-container-id-1 div.sk-item::before, #sk-container-id-1 div.sk-parallel-item::before {content: \"\";position: absolute;border-left: 1px solid gray;box-sizing: border-box;top: 0;bottom: 0;left: 50%;z-index: -1;}#sk-container-id-1 div.sk-parallel-item {display: flex;flex-direction: column;z-index: 1;position: relative;background-color: white;}#sk-container-id-1 div.sk-parallel-item:first-child::after {align-self: flex-end;width: 50%;}#sk-container-id-1 div.sk-parallel-item:last-child::after {align-self: flex-start;width: 50%;}#sk-container-id-1 div.sk-parallel-item:only-child::after {width: 0;}#sk-container-id-1 div.sk-dashed-wrapped {border: 1px dashed gray;margin: 0 0.4em 0.5em 0.4em;box-sizing: border-box;padding-bottom: 0.4em;background-color: white;}#sk-container-id-1 div.sk-label label {font-family: monospace;font-weight: bold;display: inline-block;line-height: 1.2em;}#sk-container-id-1 div.sk-label-container {text-align: center;}#sk-container-id-1 div.sk-container {/* jupyter's `normalize.less` sets `[hidden] { display: none; }` but bootstrap.min.css set `[hidden] { display: none !important; }` so we also need the `!important` here to be able to override the default hidden behavior on the sphinx rendered scikit-learn.org. See: https://github.com/scikit-learn/scikit-learn/issues/21755 */display: inline-block !important;position: relative;}#sk-container-id-1 div.sk-text-repr-fallback {display: none;}</style><div id=\"sk-container-id-1\" class=\"sk-top-container\"><div class=\"sk-text-repr-fallback\"><pre>Pipeline(steps=[(&#x27;Preprocessing&#x27;,\n",
       "                 ColumnTransformer(transformers=[(&#x27;num&#x27;,\n",
       "                                                  Pipeline(steps=[(&#x27;standardscaler&#x27;,\n",
       "                                                                   StandardScaler())]),\n",
       "                                                  [&#x27;Te[K]&#x27;, &#x27;P[bar]&#x27;, &#x27;FR&#x27;]),\n",
       "                                                 (&#x27;cat&#x27;,\n",
       "                                                  Pipeline(steps=[(&#x27;onehotencoder&#x27;,\n",
       "                                                                   OneHotEncoder(sparse=False))]),\n",
       "                                                  [&#x27;Fluid&#x27;])],\n",
       "                                   verbose=True)),\n",
       "                (&#x27;RFR_model&#x27;, RandomForestRegressor())],\n",
       "         verbose=True)</pre><b>In a Jupyter environment, please rerun this cell to show the HTML representation or trust the notebook. <br />On GitHub, the HTML representation is unable to render, please try loading this page with nbviewer.org.</b></div><div class=\"sk-container\" hidden><div class=\"sk-item sk-dashed-wrapped\"><div class=\"sk-label-container\"><div class=\"sk-label sk-toggleable\"><input class=\"sk-toggleable__control sk-hidden--visually\" id=\"sk-estimator-id-1\" type=\"checkbox\" ><label for=\"sk-estimator-id-1\" class=\"sk-toggleable__label sk-toggleable__label-arrow\">Pipeline</label><div class=\"sk-toggleable__content\"><pre>Pipeline(steps=[(&#x27;Preprocessing&#x27;,\n",
       "                 ColumnTransformer(transformers=[(&#x27;num&#x27;,\n",
       "                                                  Pipeline(steps=[(&#x27;standardscaler&#x27;,\n",
       "                                                                   StandardScaler())]),\n",
       "                                                  [&#x27;Te[K]&#x27;, &#x27;P[bar]&#x27;, &#x27;FR&#x27;]),\n",
       "                                                 (&#x27;cat&#x27;,\n",
       "                                                  Pipeline(steps=[(&#x27;onehotencoder&#x27;,\n",
       "                                                                   OneHotEncoder(sparse=False))]),\n",
       "                                                  [&#x27;Fluid&#x27;])],\n",
       "                                   verbose=True)),\n",
       "                (&#x27;RFR_model&#x27;, RandomForestRegressor())],\n",
       "         verbose=True)</pre></div></div></div><div class=\"sk-serial\"><div class=\"sk-item sk-dashed-wrapped\"><div class=\"sk-label-container\"><div class=\"sk-label sk-toggleable\"><input class=\"sk-toggleable__control sk-hidden--visually\" id=\"sk-estimator-id-2\" type=\"checkbox\" ><label for=\"sk-estimator-id-2\" class=\"sk-toggleable__label sk-toggleable__label-arrow\">Preprocessing: ColumnTransformer</label><div class=\"sk-toggleable__content\"><pre>ColumnTransformer(transformers=[(&#x27;num&#x27;,\n",
       "                                 Pipeline(steps=[(&#x27;standardscaler&#x27;,\n",
       "                                                  StandardScaler())]),\n",
       "                                 [&#x27;Te[K]&#x27;, &#x27;P[bar]&#x27;, &#x27;FR&#x27;]),\n",
       "                                (&#x27;cat&#x27;,\n",
       "                                 Pipeline(steps=[(&#x27;onehotencoder&#x27;,\n",
       "                                                  OneHotEncoder(sparse=False))]),\n",
       "                                 [&#x27;Fluid&#x27;])],\n",
       "                  verbose=True)</pre></div></div></div><div class=\"sk-parallel\"><div class=\"sk-parallel-item\"><div class=\"sk-item\"><div class=\"sk-label-container\"><div class=\"sk-label sk-toggleable\"><input class=\"sk-toggleable__control sk-hidden--visually\" id=\"sk-estimator-id-3\" type=\"checkbox\" ><label for=\"sk-estimator-id-3\" class=\"sk-toggleable__label sk-toggleable__label-arrow\">num</label><div class=\"sk-toggleable__content\"><pre>[&#x27;Te[K]&#x27;, &#x27;P[bar]&#x27;, &#x27;FR&#x27;]</pre></div></div></div><div class=\"sk-serial\"><div class=\"sk-item\"><div class=\"sk-serial\"><div class=\"sk-item\"><div class=\"sk-estimator sk-toggleable\"><input class=\"sk-toggleable__control sk-hidden--visually\" id=\"sk-estimator-id-4\" type=\"checkbox\" ><label for=\"sk-estimator-id-4\" class=\"sk-toggleable__label sk-toggleable__label-arrow\">StandardScaler</label><div class=\"sk-toggleable__content\"><pre>StandardScaler()</pre></div></div></div></div></div></div></div></div><div class=\"sk-parallel-item\"><div class=\"sk-item\"><div class=\"sk-label-container\"><div class=\"sk-label sk-toggleable\"><input class=\"sk-toggleable__control sk-hidden--visually\" id=\"sk-estimator-id-5\" type=\"checkbox\" ><label for=\"sk-estimator-id-5\" class=\"sk-toggleable__label sk-toggleable__label-arrow\">cat</label><div class=\"sk-toggleable__content\"><pre>[&#x27;Fluid&#x27;]</pre></div></div></div><div class=\"sk-serial\"><div class=\"sk-item\"><div class=\"sk-serial\"><div class=\"sk-item\"><div class=\"sk-estimator sk-toggleable\"><input class=\"sk-toggleable__control sk-hidden--visually\" id=\"sk-estimator-id-6\" type=\"checkbox\" ><label for=\"sk-estimator-id-6\" class=\"sk-toggleable__label sk-toggleable__label-arrow\">OneHotEncoder</label><div class=\"sk-toggleable__content\"><pre>OneHotEncoder(sparse=False)</pre></div></div></div></div></div></div></div></div></div></div><div class=\"sk-item\"><div class=\"sk-estimator sk-toggleable\"><input class=\"sk-toggleable__control sk-hidden--visually\" id=\"sk-estimator-id-7\" type=\"checkbox\" ><label for=\"sk-estimator-id-7\" class=\"sk-toggleable__label sk-toggleable__label-arrow\">RandomForestRegressor</label><div class=\"sk-toggleable__content\"><pre>RandomForestRegressor()</pre></div></div></div></div></div></div></div>"
      ],
      "text/plain": [
       "Pipeline(steps=[('Preprocessing',\n",
       "                 ColumnTransformer(transformers=[('num',\n",
       "                                                  Pipeline(steps=[('standardscaler',\n",
       "                                                                   StandardScaler())]),\n",
       "                                                  ['Te[K]', 'P[bar]', 'FR']),\n",
       "                                                 ('cat',\n",
       "                                                  Pipeline(steps=[('onehotencoder',\n",
       "                                                                   OneHotEncoder(sparse=False))]),\n",
       "                                                  ['Fluid'])],\n",
       "                                   verbose=True)),\n",
       "                ('RFR_model', RandomForestRegressor())],\n",
       "         verbose=True)"
      ]
     },
     "execution_count": 19,
     "metadata": {},
     "output_type": "execute_result"
    }
   ],
   "source": [
    "data_pipeline.fit(x_train, y_train)"
   ]
  },
  {
   "cell_type": "code",
   "execution_count": 20,
   "metadata": {},
   "outputs": [],
   "source": [
    "# prediction check\n",
    "prediction_test = data_pipeline.predict(x_test)"
   ]
  },
  {
   "cell_type": "code",
   "execution_count": 54,
   "metadata": {},
   "outputs": [],
   "source": [
    "prediction = pd.DataFrame(prediction_test)\n",
    "y_test_clm = list(y_test.columns)\n",
    "prediction.columns = y_test_clm"
   ]
  },
  {
   "cell_type": "code",
   "execution_count": 57,
   "metadata": {},
   "outputs": [
    {
     "name": "stdout",
     "output_type": "stream",
     "text": [
      "Mean Absolute Errors:\n",
      " Tc: 1.3473181835524703\n",
      " TR: 0.01843595724686595\n",
      " dG: 4.913625862552732 \n"
     ]
    }
   ],
   "source": [
    "# evalutate model\n",
    "score_Tc = mean_absolute_error(y_test['Tc[K]'], prediction['Tc[K]'])\n",
    "score_TR = mean_absolute_error(y_test['TR[K/W]'], prediction['TR[K/W]'])\n",
    "score_dG = mean_absolute_error(y_test['dG[KJ/mol]'], prediction['dG[KJ/mol]'])\n",
    "\n",
    "print(f'Mean Absolute Errors:\\n Tc: {score_Tc}\\n TR: {score_TR}\\n dG: {score_dG} ')"
   ]
  },
  {
   "cell_type": "code",
   "execution_count": 50,
   "metadata": {},
   "outputs": [
    {
     "data": {
      "text/plain": [
       "<matplotlib.legend.Legend at 0x1677b8c40>"
      ]
     },
     "execution_count": 50,
     "metadata": {},
     "output_type": "execute_result"
    },
    {
     "data": {
      "image/png": "[encoded data removed]",
      "text/plain": [
       "<Figure size 1000x600 with 1 Axes>"
      ]
     },
     "metadata": {},
     "output_type": "display_data"
    }
   ],
   "source": [
    "# plot prediction and targets\n",
    "plt.figure(figsize=(10,6))\n",
    "plt.scatter(prediction['TR[K/W]'], y_test['TR[K/W]'],c='b', alpha=0.5, label='TR[K/W]')\n",
    "plt.title('ML Model Evaluation')\n",
    "plt.legend()"
   ]
  },
  {
   "cell_type": "code",
   "execution_count": 49,
   "metadata": {},
   "outputs": [
    {
     "data": {
      "text/plain": [
       "<matplotlib.legend.Legend at 0x167737fa0>"
      ]
     },
     "execution_count": 49,
     "metadata": {},
     "output_type": "execute_result"
    },
    {
     "data": {
      "image/png": "[encoded data removed]",
      "text/plain": [
       "<Figure size 1000x600 with 1 Axes>"
      ]
     },
     "metadata": {},
     "output_type": "display_data"
    }
   ],
   "source": [
    "# plot prediction and targets\n",
    "plt.figure(figsize=(10,6))\n",
    "plt.scatter(prediction['Tc[K]'], y_test['Tc[K]'], c='g',alpha=0.5, label='Tc[K]')\n",
    "plt.title('ML Model Evaluation')\n",
    "plt.legend()"
   ]
  },
  {
   "cell_type": "code",
   "execution_count": 52,
   "metadata": {},
   "outputs": [
    {
     "data": {
      "text/plain": [
       "<matplotlib.legend.Legend at 0x16785aa30>"
      ]
     },
     "execution_count": 52,
     "metadata": {},
     "output_type": "execute_result"
    },
    {
     "data": {
      "image/png": "[encoded data removed]",
      "text/plain": [
       "<Figure size 1000x600 with 1 Axes>"
      ]
     },
     "metadata": {},
     "output_type": "display_data"
    }
   ],
   "source": [
    "# plot prediction and targets\n",
    "plt.figure(figsize=(10,6))\n",
    "plt.scatter(prediction['dG[KJ/mol]'], y_test['dG[KJ/mol]'],c='orange', alpha=0.5, label='dG[KJ/mol]')\n",
    "plt.title('ML Model Evaluation')\n",
    "plt.legend()"
   ]
  },
  {
   "cell_type": "code",
   "execution_count": null,
   "metadata": {},
   "outputs": [],
   "source": []
  }
 ],
 "metadata": {
  "kernelspec": {
   "display_name": "venv",
   "language": "python",
   "name": "python3"
  },
  "language_info": {
   "codemirror_mode": {
    "name": "ipython",
    "version": 3
   },
   "file_extension": ".py",
   "mimetype": "text/x-python",
   "name": "python",
   "nbconvert_exporter": "python",
   "pygments_lexer": "ipython3",
   "version": "3.9.6"
  },
  "orig_nbformat": 4
 },
 "nbformat": 4,
 "nbformat_minor": 2
}
