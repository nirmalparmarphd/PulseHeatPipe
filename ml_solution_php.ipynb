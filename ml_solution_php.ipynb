{
 "cells": [
  {
   "attachments": {},
   "cell_type": "markdown",
   "metadata": {},
   "source": [
    "# Machine Learning solution - PHP\n",
    "\n",
    "ML model to predict 'Thermal Resistance' and 'Temperature Drop' in PHP"
   ]
  },
  {
   "attachments": {},
   "cell_type": "markdown",
   "metadata": {},
   "source": [
    "## Data Loading and Pre-Processing"
   ]
  },
  {
   "cell_type": "code",
   "execution_count": 1,
   "metadata": {},
   "outputs": [],
   "source": [
    "# loading ML module\n",
    "from ml_solution_module import MachineLearning"
   ]
  },
  {
   "cell_type": "code",
   "execution_count": 2,
   "metadata": {},
   "outputs": [
    {
     "name": "stdout",
     "output_type": "stream",
     "text": [
      "data/ml_result already exists and ML reuslts will be stored here.\n"
     ]
    }
   ],
   "source": [
    "# assigning variable\n",
    "ml = MachineLearning(\"data/\")"
   ]
  },
  {
   "cell_type": "code",
   "execution_count": 3,
   "metadata": {},
   "outputs": [
    {
     "name": "stdout",
     "output_type": "stream",
     "text": [
      "Compiled data stored at data/ml_result/all_combined_data_DI Water 40_40.csv\n",
      "Compiled data stored at data/ml_result/all_combined_data_DI Water 60_60.csv\n",
      "Compiled data stored at data/ml_result/all_combined_data_Al2O3 DI Water 40_40.csv\n",
      "Compiled data stored at data/ml_result/all_combined_data_Al2O3 DI Water 60_60.csv\n"
     ]
    }
   ],
   "source": [
    "# loadig data from gfe_combined.csv from each sample and sving them as csv in data/ml_result/\n",
    "\n",
    "df_w_40 = ml.data_prep('data/di_water_exp/40_FR/gfe_combined.csv', sample='DI Water 40', fr=40)\n",
    "df_w_60 = ml.data_prep('data/di_water_exp/60_FR/gfe_combined.csv', sample='DI Water 60', fr=60)\n",
    "df_a_40 = ml.data_prep('data/al2o3_diwater_exp/40_FR/gfe_combined.csv', sample='Al2O3 DI Water 40', fr=40)\n",
    "df_a_60 = ml.data_prep('data/al2o3_diwater_exp/60_FR/gfe_combined.csv', sample='Al2O3 DI Water 60', fr=60)\n"
   ]
  },
  {
   "cell_type": "code",
   "execution_count": 4,
   "metadata": {},
   "outputs": [
    {
     "name": "stdout",
     "output_type": "stream",
     "text": [
      "All data compiled in a single csv file and saved at: data/ml_result as super_combined_data.csv\n"
     ]
    }
   ],
   "source": [
    "# Data compile\n",
    "# Combining all files in one super_combine file\n",
    "\n",
    "df_combined = ml.data_compile() "
   ]
  },
  {
   "cell_type": "code",
   "execution_count": 5,
   "metadata": {},
   "outputs": [],
   "source": [
    "# Data Cleaning\n",
    "# Filtering data by dG values\n",
    "# removing all datapoints with positive dG value\n",
    "\n",
    "df_clean = ml.data_filter_dG(df_combined)"
   ]
  },
  {
   "cell_type": "code",
   "execution_count": 6,
   "metadata": {},
   "outputs": [
    {
     "data": {
      "text/html": [
       "<div>\n",
       "<style scoped>\n",
       "    .dataframe tbody tr th:only-of-type {\n",
       "        vertical-align: middle;\n",
       "    }\n",
       "\n",
       "    .dataframe tbody tr th {\n",
       "        vertical-align: top;\n",
       "    }\n",
       "\n",
       "    .dataframe thead th {\n",
       "        text-align: right;\n",
       "    }\n",
       "</style>\n",
       "<table border=\"1\" class=\"dataframe\">\n",
       "  <thead>\n",
       "    <tr style=\"text-align: right;\">\n",
       "      <th></th>\n",
       "      <th>Unnamed: 0</th>\n",
       "      <th>t(min)</th>\n",
       "      <th>Te[K]</th>\n",
       "      <th>Tc[K]</th>\n",
       "      <th>dT[K]</th>\n",
       "      <th>P[bar]</th>\n",
       "      <th>TR[K/W]</th>\n",
       "      <th>GFE [KJ/mol]</th>\n",
       "      <th>GFE_Tc [KJ/mol]</th>\n",
       "      <th>dG[KJ/mol]</th>\n",
       "      <th>Fluid</th>\n",
       "      <th>FR</th>\n",
       "    </tr>\n",
       "  </thead>\n",
       "  <tbody>\n",
       "    <tr>\n",
       "      <th>0</th>\n",
       "      <td>0</td>\n",
       "      <td>0.0</td>\n",
       "      <td>298.150000</td>\n",
       "      <td>296.65</td>\n",
       "      <td>1.500000</td>\n",
       "      <td>0.413299</td>\n",
       "      <td>0.018750</td>\n",
       "      <td>-2190.243835</td>\n",
       "      <td>-2179.224665</td>\n",
       "      <td>-11.019171</td>\n",
       "      <td>DI Water 60</td>\n",
       "      <td>60</td>\n",
       "    </tr>\n",
       "    <tr>\n",
       "      <th>1</th>\n",
       "      <td>1</td>\n",
       "      <td>0.5</td>\n",
       "      <td>297.816667</td>\n",
       "      <td>296.65</td>\n",
       "      <td>1.166667</td>\n",
       "      <td>0.413299</td>\n",
       "      <td>0.014583</td>\n",
       "      <td>-2187.795131</td>\n",
       "      <td>-2179.224665</td>\n",
       "      <td>-8.570466</td>\n",
       "      <td>DI Water 60</td>\n",
       "      <td>60</td>\n",
       "    </tr>\n",
       "    <tr>\n",
       "      <th>2</th>\n",
       "      <td>2</td>\n",
       "      <td>1.0</td>\n",
       "      <td>298.150000</td>\n",
       "      <td>296.40</td>\n",
       "      <td>1.750000</td>\n",
       "      <td>0.413299</td>\n",
       "      <td>0.021875</td>\n",
       "      <td>-2190.243835</td>\n",
       "      <td>-2177.388136</td>\n",
       "      <td>-12.855699</td>\n",
       "      <td>DI Water 60</td>\n",
       "      <td>60</td>\n",
       "    </tr>\n",
       "    <tr>\n",
       "      <th>3</th>\n",
       "      <td>3</td>\n",
       "      <td>1.5</td>\n",
       "      <td>300.150000</td>\n",
       "      <td>296.40</td>\n",
       "      <td>3.750000</td>\n",
       "      <td>0.413299</td>\n",
       "      <td>0.046875</td>\n",
       "      <td>-2204.936063</td>\n",
       "      <td>-2177.388136</td>\n",
       "      <td>-27.547927</td>\n",
       "      <td>DI Water 60</td>\n",
       "      <td>60</td>\n",
       "    </tr>\n",
       "    <tr>\n",
       "      <th>4</th>\n",
       "      <td>4</td>\n",
       "      <td>2.0</td>\n",
       "      <td>302.150000</td>\n",
       "      <td>296.40</td>\n",
       "      <td>5.750000</td>\n",
       "      <td>0.413299</td>\n",
       "      <td>0.071875</td>\n",
       "      <td>-2219.628291</td>\n",
       "      <td>-2177.388136</td>\n",
       "      <td>-42.240154</td>\n",
       "      <td>DI Water 60</td>\n",
       "      <td>60</td>\n",
       "    </tr>\n",
       "    <tr>\n",
       "      <th>...</th>\n",
       "      <td>...</td>\n",
       "      <td>...</td>\n",
       "      <td>...</td>\n",
       "      <td>...</td>\n",
       "      <td>...</td>\n",
       "      <td>...</td>\n",
       "      <td>...</td>\n",
       "      <td>...</td>\n",
       "      <td>...</td>\n",
       "      <td>...</td>\n",
       "      <td>...</td>\n",
       "      <td>...</td>\n",
       "    </tr>\n",
       "    <tr>\n",
       "      <th>1746</th>\n",
       "      <td>392</td>\n",
       "      <td>24.0</td>\n",
       "      <td>360.150000</td>\n",
       "      <td>340.40</td>\n",
       "      <td>19.750000</td>\n",
       "      <td>0.913258</td>\n",
       "      <td>0.246875</td>\n",
       "      <td>-271.692723</td>\n",
       "      <td>-256.793566</td>\n",
       "      <td>-14.899157</td>\n",
       "      <td>Al2O3 DI Water 60</td>\n",
       "      <td>60</td>\n",
       "    </tr>\n",
       "    <tr>\n",
       "      <th>1747</th>\n",
       "      <td>393</td>\n",
       "      <td>24.5</td>\n",
       "      <td>360.816667</td>\n",
       "      <td>341.15</td>\n",
       "      <td>19.666667</td>\n",
       "      <td>0.946588</td>\n",
       "      <td>0.245833</td>\n",
       "      <td>-164.663355</td>\n",
       "      <td>-155.688217</td>\n",
       "      <td>-8.975138</td>\n",
       "      <td>Al2O3 DI Water 60</td>\n",
       "      <td>60</td>\n",
       "    </tr>\n",
       "    <tr>\n",
       "      <th>1748</th>\n",
       "      <td>394</td>\n",
       "      <td>25.0</td>\n",
       "      <td>360.816667</td>\n",
       "      <td>341.15</td>\n",
       "      <td>19.666667</td>\n",
       "      <td>0.946588</td>\n",
       "      <td>0.245833</td>\n",
       "      <td>-164.663355</td>\n",
       "      <td>-155.688217</td>\n",
       "      <td>-8.975138</td>\n",
       "      <td>Al2O3 DI Water 60</td>\n",
       "      <td>60</td>\n",
       "    </tr>\n",
       "    <tr>\n",
       "      <th>1749</th>\n",
       "      <td>395</td>\n",
       "      <td>25.5</td>\n",
       "      <td>360.816667</td>\n",
       "      <td>342.40</td>\n",
       "      <td>18.416667</td>\n",
       "      <td>0.979919</td>\n",
       "      <td>0.230208</td>\n",
       "      <td>-60.852658</td>\n",
       "      <td>-57.746640</td>\n",
       "      <td>-3.106018</td>\n",
       "      <td>Al2O3 DI Water 60</td>\n",
       "      <td>60</td>\n",
       "    </tr>\n",
       "    <tr>\n",
       "      <th>1750</th>\n",
       "      <td>396</td>\n",
       "      <td>26.0</td>\n",
       "      <td>359.483333</td>\n",
       "      <td>342.40</td>\n",
       "      <td>17.083333</td>\n",
       "      <td>0.979919</td>\n",
       "      <td>0.213542</td>\n",
       "      <td>-60.627788</td>\n",
       "      <td>-57.746640</td>\n",
       "      <td>-2.881148</td>\n",
       "      <td>Al2O3 DI Water 60</td>\n",
       "      <td>60</td>\n",
       "    </tr>\n",
       "  </tbody>\n",
       "</table>\n",
       "<p>1479 rows × 12 columns</p>\n",
       "</div>"
      ],
      "text/plain": [
       "      Unnamed: 0  t(min)       Te[K]   Tc[K]      dT[K]    P[bar]   TR[K/W]  \\\n",
       "0              0     0.0  298.150000  296.65   1.500000  0.413299  0.018750   \n",
       "1              1     0.5  297.816667  296.65   1.166667  0.413299  0.014583   \n",
       "2              2     1.0  298.150000  296.40   1.750000  0.413299  0.021875   \n",
       "3              3     1.5  300.150000  296.40   3.750000  0.413299  0.046875   \n",
       "4              4     2.0  302.150000  296.40   5.750000  0.413299  0.071875   \n",
       "...          ...     ...         ...     ...        ...       ...       ...   \n",
       "1746         392    24.0  360.150000  340.40  19.750000  0.913258  0.246875   \n",
       "1747         393    24.5  360.816667  341.15  19.666667  0.946588  0.245833   \n",
       "1748         394    25.0  360.816667  341.15  19.666667  0.946588  0.245833   \n",
       "1749         395    25.5  360.816667  342.40  18.416667  0.979919  0.230208   \n",
       "1750         396    26.0  359.483333  342.40  17.083333  0.979919  0.213542   \n",
       "\n",
       "      GFE [KJ/mol]  GFE_Tc [KJ/mol]  dG[KJ/mol]              Fluid  FR  \n",
       "0     -2190.243835     -2179.224665  -11.019171        DI Water 60  60  \n",
       "1     -2187.795131     -2179.224665   -8.570466        DI Water 60  60  \n",
       "2     -2190.243835     -2177.388136  -12.855699        DI Water 60  60  \n",
       "3     -2204.936063     -2177.388136  -27.547927        DI Water 60  60  \n",
       "4     -2219.628291     -2177.388136  -42.240154        DI Water 60  60  \n",
       "...            ...              ...         ...                ...  ..  \n",
       "1746   -271.692723      -256.793566  -14.899157  Al2O3 DI Water 60  60  \n",
       "1747   -164.663355      -155.688217   -8.975138  Al2O3 DI Water 60  60  \n",
       "1748   -164.663355      -155.688217   -8.975138  Al2O3 DI Water 60  60  \n",
       "1749    -60.852658       -57.746640   -3.106018  Al2O3 DI Water 60  60  \n",
       "1750    -60.627788       -57.746640   -2.881148  Al2O3 DI Water 60  60  \n",
       "\n",
       "[1479 rows x 12 columns]"
      ]
     },
     "execution_count": 6,
     "metadata": {},
     "output_type": "execute_result"
    }
   ],
   "source": [
    "df_clean"
   ]
  },
  {
   "attachments": {},
   "cell_type": "markdown",
   "metadata": {},
   "source": [
    "## EDA\n",
    "Detailed EDA (data visualisation) is conducted in ml_eda_*.ipynb"
   ]
  },
  {
   "cell_type": "code",
   "execution_count": 7,
   "metadata": {},
   "outputs": [
    {
     "data": {
      "text/plain": [
       "array(['DI Water 60', 'Al2O3 DI Water 40', 'DI Water 40',\n",
       "       'Al2O3 DI Water 60'], dtype=object)"
      ]
     },
     "execution_count": 7,
     "metadata": {},
     "output_type": "execute_result"
    }
   ],
   "source": [
    "# checking the Fluid column\n",
    "df_clean.Fluid.unique()"
   ]
  },
  {
   "cell_type": "code",
   "execution_count": 8,
   "metadata": {},
   "outputs": [
    {
     "data": {
      "text/plain": [
       "Index(['Unnamed: 0', 't(min)', 'Te[K]', 'Tc[K]', 'dT[K]', 'P[bar]', 'TR[K/W]',\n",
       "       'GFE [KJ/mol]', 'GFE_Tc [KJ/mol]', 'dG[KJ/mol]', 'Fluid', 'FR'],\n",
       "      dtype='object')"
      ]
     },
     "execution_count": 8,
     "metadata": {},
     "output_type": "execute_result"
    }
   ],
   "source": [
    "# checking columns list\n",
    "df_clean.columns"
   ]
  },
  {
   "cell_type": "code",
   "execution_count": 9,
   "metadata": {},
   "outputs": [],
   "source": [
    "# selecting clms\n",
    "df_sd = df_clean[['Te[K]', 'Tc[K]', 'dT[K]', 'P[bar]', 'TR[K/W]','dG[KJ/mol]', 'Fluid', 'FR']]"
   ]
  },
  {
   "cell_type": "code",
   "execution_count": 10,
   "metadata": {},
   "outputs": [
    {
     "data": {
      "text/html": [
       "<div>\n",
       "<style scoped>\n",
       "    .dataframe tbody tr th:only-of-type {\n",
       "        vertical-align: middle;\n",
       "    }\n",
       "\n",
       "    .dataframe tbody tr th {\n",
       "        vertical-align: top;\n",
       "    }\n",
       "\n",
       "    .dataframe thead th {\n",
       "        text-align: right;\n",
       "    }\n",
       "</style>\n",
       "<table border=\"1\" class=\"dataframe\">\n",
       "  <thead>\n",
       "    <tr style=\"text-align: right;\">\n",
       "      <th></th>\n",
       "      <th>Te[K]</th>\n",
       "      <th>Tc[K]</th>\n",
       "      <th>dT[K]</th>\n",
       "      <th>P[bar]</th>\n",
       "      <th>TR[K/W]</th>\n",
       "      <th>dG[KJ/mol]</th>\n",
       "      <th>Fluid</th>\n",
       "      <th>FR</th>\n",
       "    </tr>\n",
       "  </thead>\n",
       "  <tbody>\n",
       "    <tr>\n",
       "      <th>0</th>\n",
       "      <td>298.150000</td>\n",
       "      <td>296.65</td>\n",
       "      <td>1.500000</td>\n",
       "      <td>0.413299</td>\n",
       "      <td>0.018750</td>\n",
       "      <td>-11.019171</td>\n",
       "      <td>DI Water 60</td>\n",
       "      <td>60</td>\n",
       "    </tr>\n",
       "    <tr>\n",
       "      <th>1</th>\n",
       "      <td>297.816667</td>\n",
       "      <td>296.65</td>\n",
       "      <td>1.166667</td>\n",
       "      <td>0.413299</td>\n",
       "      <td>0.014583</td>\n",
       "      <td>-8.570466</td>\n",
       "      <td>DI Water 60</td>\n",
       "      <td>60</td>\n",
       "    </tr>\n",
       "    <tr>\n",
       "      <th>2</th>\n",
       "      <td>298.150000</td>\n",
       "      <td>296.40</td>\n",
       "      <td>1.750000</td>\n",
       "      <td>0.413299</td>\n",
       "      <td>0.021875</td>\n",
       "      <td>-12.855699</td>\n",
       "      <td>DI Water 60</td>\n",
       "      <td>60</td>\n",
       "    </tr>\n",
       "    <tr>\n",
       "      <th>3</th>\n",
       "      <td>300.150000</td>\n",
       "      <td>296.40</td>\n",
       "      <td>3.750000</td>\n",
       "      <td>0.413299</td>\n",
       "      <td>0.046875</td>\n",
       "      <td>-27.547927</td>\n",
       "      <td>DI Water 60</td>\n",
       "      <td>60</td>\n",
       "    </tr>\n",
       "    <tr>\n",
       "      <th>4</th>\n",
       "      <td>302.150000</td>\n",
       "      <td>296.40</td>\n",
       "      <td>5.750000</td>\n",
       "      <td>0.413299</td>\n",
       "      <td>0.071875</td>\n",
       "      <td>-42.240154</td>\n",
       "      <td>DI Water 60</td>\n",
       "      <td>60</td>\n",
       "    </tr>\n",
       "    <tr>\n",
       "      <th>...</th>\n",
       "      <td>...</td>\n",
       "      <td>...</td>\n",
       "      <td>...</td>\n",
       "      <td>...</td>\n",
       "      <td>...</td>\n",
       "      <td>...</td>\n",
       "      <td>...</td>\n",
       "      <td>...</td>\n",
       "    </tr>\n",
       "    <tr>\n",
       "      <th>1746</th>\n",
       "      <td>360.150000</td>\n",
       "      <td>340.40</td>\n",
       "      <td>19.750000</td>\n",
       "      <td>0.913258</td>\n",
       "      <td>0.246875</td>\n",
       "      <td>-14.899157</td>\n",
       "      <td>Al2O3 DI Water 60</td>\n",
       "      <td>60</td>\n",
       "    </tr>\n",
       "    <tr>\n",
       "      <th>1747</th>\n",
       "      <td>360.816667</td>\n",
       "      <td>341.15</td>\n",
       "      <td>19.666667</td>\n",
       "      <td>0.946588</td>\n",
       "      <td>0.245833</td>\n",
       "      <td>-8.975138</td>\n",
       "      <td>Al2O3 DI Water 60</td>\n",
       "      <td>60</td>\n",
       "    </tr>\n",
       "    <tr>\n",
       "      <th>1748</th>\n",
       "      <td>360.816667</td>\n",
       "      <td>341.15</td>\n",
       "      <td>19.666667</td>\n",
       "      <td>0.946588</td>\n",
       "      <td>0.245833</td>\n",
       "      <td>-8.975138</td>\n",
       "      <td>Al2O3 DI Water 60</td>\n",
       "      <td>60</td>\n",
       "    </tr>\n",
       "    <tr>\n",
       "      <th>1749</th>\n",
       "      <td>360.816667</td>\n",
       "      <td>342.40</td>\n",
       "      <td>18.416667</td>\n",
       "      <td>0.979919</td>\n",
       "      <td>0.230208</td>\n",
       "      <td>-3.106018</td>\n",
       "      <td>Al2O3 DI Water 60</td>\n",
       "      <td>60</td>\n",
       "    </tr>\n",
       "    <tr>\n",
       "      <th>1750</th>\n",
       "      <td>359.483333</td>\n",
       "      <td>342.40</td>\n",
       "      <td>17.083333</td>\n",
       "      <td>0.979919</td>\n",
       "      <td>0.213542</td>\n",
       "      <td>-2.881148</td>\n",
       "      <td>Al2O3 DI Water 60</td>\n",
       "      <td>60</td>\n",
       "    </tr>\n",
       "  </tbody>\n",
       "</table>\n",
       "<p>1479 rows × 8 columns</p>\n",
       "</div>"
      ],
      "text/plain": [
       "           Te[K]   Tc[K]      dT[K]    P[bar]   TR[K/W]  dG[KJ/mol]  \\\n",
       "0     298.150000  296.65   1.500000  0.413299  0.018750  -11.019171   \n",
       "1     297.816667  296.65   1.166667  0.413299  0.014583   -8.570466   \n",
       "2     298.150000  296.40   1.750000  0.413299  0.021875  -12.855699   \n",
       "3     300.150000  296.40   3.750000  0.413299  0.046875  -27.547927   \n",
       "4     302.150000  296.40   5.750000  0.413299  0.071875  -42.240154   \n",
       "...          ...     ...        ...       ...       ...         ...   \n",
       "1746  360.150000  340.40  19.750000  0.913258  0.246875  -14.899157   \n",
       "1747  360.816667  341.15  19.666667  0.946588  0.245833   -8.975138   \n",
       "1748  360.816667  341.15  19.666667  0.946588  0.245833   -8.975138   \n",
       "1749  360.816667  342.40  18.416667  0.979919  0.230208   -3.106018   \n",
       "1750  359.483333  342.40  17.083333  0.979919  0.213542   -2.881148   \n",
       "\n",
       "                  Fluid  FR  \n",
       "0           DI Water 60  60  \n",
       "1           DI Water 60  60  \n",
       "2           DI Water 60  60  \n",
       "3           DI Water 60  60  \n",
       "4           DI Water 60  60  \n",
       "...                 ...  ..  \n",
       "1746  Al2O3 DI Water 60  60  \n",
       "1747  Al2O3 DI Water 60  60  \n",
       "1748  Al2O3 DI Water 60  60  \n",
       "1749  Al2O3 DI Water 60  60  \n",
       "1750  Al2O3 DI Water 60  60  \n",
       "\n",
       "[1479 rows x 8 columns]"
      ]
     },
     "execution_count": 10,
     "metadata": {},
     "output_type": "execute_result"
    }
   ],
   "source": [
    "df_sd"
   ]
  },
  {
   "cell_type": "code",
   "execution_count": 11,
   "metadata": {},
   "outputs": [
    {
     "name": "stderr",
     "output_type": "stream",
     "text": [
      "/var/folders/qf/2jw75py95_q8c1t5jmt77sx80000gn/T/ipykernel_6912/1295938470.py:2: FutureWarning: The default value of numeric_only in DataFrame.corr is deprecated. In a future version, it will default to False. Select only valid columns or specify the value of numeric_only to silence this warning.\n",
      "  corr_matrix = df_sd.corr()\n"
     ]
    },
    {
     "data": {
      "text/plain": [
       "TR[K/W]      -0.490117\n",
       "dT[K]        -0.490015\n",
       "Te[K]         0.228414\n",
       "FR            0.257672\n",
       "Tc[K]         0.502954\n",
       "P[bar]        0.697498\n",
       "dG[KJ/mol]    1.000000\n",
       "Name: dG[KJ/mol], dtype: float64"
      ]
     },
     "execution_count": 11,
     "metadata": {},
     "output_type": "execute_result"
    }
   ],
   "source": [
    "# co-relation\n",
    "corr_matrix = df_sd.corr()\n",
    "corr_matrix['dG[KJ/mol]'].sort_values(ascending=True)"
   ]
  },
  {
   "attachments": {},
   "cell_type": "markdown",
   "metadata": {},
   "source": [
    "dG has strong correlation with: P[bar]"
   ]
  },
  {
   "cell_type": "code",
   "execution_count": 12,
   "metadata": {},
   "outputs": [
    {
     "data": {
      "text/plain": [
       "FR           -0.051822\n",
       "TR[K/W]       0.191281\n",
       "dT[K]         0.191412\n",
       "dG[KJ/mol]    0.502954\n",
       "P[bar]        0.886474\n",
       "Te[K]         0.918503\n",
       "Tc[K]         1.000000\n",
       "Name: Tc[K], dtype: float64"
      ]
     },
     "execution_count": 12,
     "metadata": {},
     "output_type": "execute_result"
    }
   ],
   "source": [
    "corr_matrix['Tc[K]'].sort_values(ascending=True)"
   ]
  },
  {
   "attachments": {},
   "cell_type": "markdown",
   "metadata": {},
   "source": [
    "Tc has strong correlation with Te[K] and P[bar]"
   ]
  },
  {
   "cell_type": "code",
   "execution_count": 13,
   "metadata": {},
   "outputs": [],
   "source": [
    "# Mutual Information\n",
    "from sklearn.feature_selection import mutual_info_regression\n",
    "import pandas as pd\n",
    "df_int = df_sd.drop(['Fluid', 'Tc[K]', 'dG[KJ/mol]'], axis=1)\n",
    "mutual_info = mutual_info_regression(df_int, df_sd['Tc[K]'])"
   ]
  },
  {
   "cell_type": "code",
   "execution_count": 14,
   "metadata": {},
   "outputs": [
    {
     "data": {
      "text/plain": [
       "Te[K]      1.580934\n",
       "P[bar]     1.141626\n",
       "TR[K/W]    1.056068\n",
       "dT[K]      1.054095\n",
       "FR         0.062686\n",
       "dtype: float64"
      ]
     },
     "execution_count": 14,
     "metadata": {},
     "output_type": "execute_result"
    }
   ],
   "source": [
    "mutual_info = pd.Series(mutual_info)\n",
    "mutual_info.index = df_int.columns\n",
    "mutual_info.sort_values(ascending=False)"
   ]
  },
  {
   "cell_type": "code",
   "execution_count": 16,
   "metadata": {},
   "outputs": [],
   "source": [
    "# data splitting\n",
    "x_train, x_test, y_train, y_test = ml.data_split(df_sd)"
   ]
  },
  {
   "cell_type": "code",
   "execution_count": 18,
   "metadata": {},
   "outputs": [],
   "source": [
    "# checking mutual information\n",
    "#ml.mutual_info(x_train, y_train['Tc[K]'])"
   ]
  },
  {
   "cell_type": "code",
   "execution_count": null,
   "metadata": {},
   "outputs": [],
   "source": []
  }
 ],
 "metadata": {
  "kernelspec": {
   "display_name": "venv",
   "language": "python",
   "name": "python3"
  },
  "language_info": {
   "codemirror_mode": {
    "name": "ipython",
    "version": 3
   },
   "file_extension": ".py",
   "mimetype": "text/x-python",
   "name": "python",
   "nbconvert_exporter": "python",
   "pygments_lexer": "ipython3",
   "version": "3.9.6"
  },
  "orig_nbformat": 4
 },
 "nbformat": 4,
 "nbformat_minor": 2
}
